{
 "cells": [
  {
   "cell_type": "code",
   "execution_count": null,
   "id": "2b62dc2e",
   "metadata": {},
   "outputs": [],
   "source": [
    "from CoDIAC import analysis\n",
    "pdb_ann_file='Data/PDB_Reference/SH2_IPR000980_PDB_reference.csv'\n",
    "ADJFILES_PATH='./AdjacencyFiles/'\n",
    "reference_fastafile = 'Data/Uniprot_Reference/SH2_IPR000980.fasta'\n",
    "error_structures_list=['7UNC','7UND','8H36','8H37' ,'8OEU' ,'8OEV' ,'8OF0','6GMH','6TED','7OOP','7OPC','7OPD'] #Structures for which we were unable to generate .json and binary feature .txt files\n",
    "Noffset_1 = 0\n",
    "Coffset_1 = -1\n",
    "Noffset_2 = 0\n",
    "Coffset_2 = -1\n",
    "#domain-domain contacts\n",
    "analysis.Intraprotein_Features(pdb_ann_file, \n",
    "                              ADJFILES_PATH, \n",
    "                              reference_fastafile, \n",
    "                              error_structures_list, \n",
    "                              Noffset_1, Coffset_1, Noffset_2, Coffset_2, \n",
    "                              append_refSeq=True,\n",
    "                              mutation = False, \n",
    "                              DOMAIN = 'SH2', \n",
    "                              filename='SH2_IPR000980_interDomain_PDB')\n",
    "\n",
    "#domain-ligand contacts\n",
    "analysis.Interprotein_Features(pdb_ann_file, \n",
    "                               ADJFILES_PATH, \n",
    "                               reference_fastafile,\n",
    "                               error_structures_list,\n",
    "                               Noffset_1, Coffset_1, Noffset_2, Coffset_2,\n",
    "                               append_refSeq=True,\n",
    "                               PTM='PTR', \n",
    "                               mutation=True, \n",
    "                               domain_of_interest='SH2', \n",
    "                               SH2_file='SH2_mut', \n",
    "                               PTM_file='pTyr_mut')\n",
    "\n"
   ]
  },
  {
   "cell_type": "markdown",
   "id": "189416a1-441a-418f-b420-dd22388b5761",
   "metadata": {},
   "source": [
    "##### *append_refSeq - useful to merge features onto the reference sequence "
   ]
  },
  {
   "cell_type": "code",
   "execution_count": null,
   "id": "1365039d-0d17-470e-aaec-27de73770408",
   "metadata": {},
   "outputs": [],
   "source": []
  }
 ],
 "metadata": {
  "kernelspec": {
   "display_name": "Python 3 (ipykernel)",
   "language": "python",
   "name": "python3"
  },
  "language_info": {
   "codemirror_mode": {
    "name": "ipython",
    "version": 3
   },
   "file_extension": ".py",
   "mimetype": "text/x-python",
   "name": "python",
   "nbconvert_exporter": "python",
   "pygments_lexer": "ipython3",
   "version": "3.9.18"
  }
 },
 "nbformat": 4,
 "nbformat_minor": 5
}
