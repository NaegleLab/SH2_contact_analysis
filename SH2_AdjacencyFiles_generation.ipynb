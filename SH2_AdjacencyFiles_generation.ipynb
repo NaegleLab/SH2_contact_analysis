{
 "cells": [
  {
   "cell_type": "code",
   "execution_count": 1,
   "id": "c86109d9",
   "metadata": {},
   "outputs": [],
   "source": [
    "from CoDIAC import AdjacencyFiles, PDB\n",
    "import pandas as pd\n",
    "import numpy as np\n",
    "import os"
   ]
  },
  {
   "cell_type": "code",
   "execution_count": 2,
   "id": "027d1c7d",
   "metadata": {},
   "outputs": [
    {
     "name": "stdout",
     "output_type": "stream",
     "text": [
      "Downloading cif files ...\n",
      "Data/AdjacencyFiles/2SHP.cif\n",
      "Data/AdjacencyFiles/1FMK.cif\n",
      "Data/AdjacencyFiles/4K11.cif\n",
      "Data/AdjacencyFiles/2H8H.cif\n"
     ]
    }
   ],
   "source": [
    "#Generate a list of PDB IDs\n",
    "PDB_list = ['2SHP','1FMK','4K11','2H8H']\n",
    "\n",
    "#Provide a path to save the adjacency files\n",
    "PATH = '/AdjacencyFiles'\n",
    "\n",
    "#generate cif files\n",
    "PDB.download_cifFile(PDB_list,PATH)"
   ]
  },
  {
   "cell_type": "code",
   "execution_count": 3,
   "id": "48e9b98f",
   "metadata": {},
   "outputs": [],
   "source": [
    "#Run arpeggio on 'Rivanna' to generate .json files\n",
    "#find .json files for the above PDB IDs in the same folder"
   ]
  },
  {
   "cell_type": "code",
   "execution_count": 4,
   "id": "62e08294",
   "metadata": {},
   "outputs": [
    {
     "name": "stdout",
     "output_type": "stream",
     "text": [
      "4U1P\n",
      "4U1P\n",
      "Adjacency File generated for 4U1P\n",
      "Adjacency File with Binary features generated for 4U1P\n",
      "2SHP\n",
      "2SHP\n",
      "Adjacency File generated for 2SHP\n",
      "Adjacency File with Binary features generated for 2SHP\n",
      "2H8H\n",
      "2H8H\n",
      "Adjacency File generated for 2H8H\n",
      "Adjacency File with Binary features generated for 2H8H\n",
      "1FMK\n",
      "1FMK\n",
      "Adjacency File generated for 1FMK\n",
      "Adjacency File with Binary features generated for 1FMK\n",
      "4K11\n",
      "4K11\n",
      "Adjacency File generated for 4K11\n",
      "Adjacency File with Binary features generated for 4K11\n"
     ]
    }
   ],
   "source": [
    "PATH = '/AdjacencyFiles'\n",
    "arpeggioFiles_path = '/AdjacencyFiles'\n",
    "outfile_path = '/AdjacencyFiles'\n",
    "listfiles = os.listdir(arpeggioFiles_path)\n",
    "# print(listfiles)\n",
    "\n",
    "for file in listfiles:\n",
    "    if file.endswith('.json'):\n",
    "\n",
    "        PDB_ID, ext = file.split('.')\n",
    "        file_path = PATH+'/'+file\n",
    "        cif_file = PATH+'/'+PDB_ID+'.cif'\n",
    "        #Adjacency file without Binary Feature\n",
    "        AdjacencyFiles.ProcessArpeggio(file_path, outfile_path,cif_file,small_molecule=False)\n",
    "        \n",
    "        #Adjacency file with Binary Feature\n",
    "        AdjacencyFiles.BinaryFeatures(PDB_ID, PATH, translate_resid=True)"
   ]
  },
  {
   "cell_type": "code",
   "execution_count": null,
   "id": "daa34e61",
   "metadata": {},
   "outputs": [],
   "source": [
    "# Make directories for each PDB structure and move the .json, .cif, .txt files to their respective directories\n",
    "import os, shutil\n",
    "path = '/AdjacencyFiles'\n",
    "\n",
    "listfiles = os.listdir(path)\n",
    "\n",
    "for file in listfiles: \n",
    "    if file.endswith('_BF.txt'):\n",
    "        \n",
    "        directory, sub = file.split('_') \n",
    "#         print(directory)\n",
    "        newpath = path+'/'+directory\n",
    "\n",
    "            \n",
    "        try:\n",
    "            os.mkdir(newpath)\n",
    "\n",
    "            json_path = path+'/'+directory+'.json'\n",
    "            ciffile_path = path+'/'+directory+'.cif'\n",
    "            adjfile_path = path+'/'+directory+'.txt'\n",
    "            adjfile_bin_path = path+'/'+directory+'_BF.txt'\n",
    "            adjfile_newpath = newpath\n",
    "\n",
    "            shutil.move(json_path, adjfile_newpath)\n",
    "            shutil.move(ciffile_path, adjfile_newpath)\n",
    "            shutil.move(adjfile_path, adjfile_newpath)\n",
    "            shutil.move(adjfile_bin_path, adjfile_newpath)\n",
    "\n",
    "        except OSError as error:\n",
    "            print(error)"
   ]
  }
 ],
 "metadata": {
  "kernelspec": {
   "display_name": "Python 3 (ipykernel)",
   "language": "python",
   "name": "python3"
  },
  "language_info": {
   "codemirror_mode": {
    "name": "ipython",
    "version": 3
   },
   "file_extension": ".py",
   "mimetype": "text/x-python",
   "name": "python",
   "nbconvert_exporter": "python",
   "pygments_lexer": "ipython3",
   "version": "3.9.18"
  }
 },
 "nbformat": 4,
 "nbformat_minor": 5
}
