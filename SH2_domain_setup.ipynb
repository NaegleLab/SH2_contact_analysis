{
 "cells": [
  {
   "cell_type": "code",
   "execution_count": 18,
   "metadata": {},
   "outputs": [],
   "source": [
    "from CoDIAC import featureTools, InterPro, UniProt, PDB, IntegrateStructure_Reference, PTM, translateFeatures, jalviewFunctions\n",
    "import CoDIAC\n",
    "import pandas as pd\n",
    "Interpro_ID = 'IPR000980' #IPR000980 is the SH2 domain superfamily\n",
    "\n",
    "#We will be creating a lot of files, this is how we would like them to be named\n",
    "data_root = 'Data/'\n",
    "name_root = 'SH2_'+Interpro_ID\n",
    "\n",
    "# The files we will make in this process (so that different pieces of code can be run below as needed)\n",
    "uniprot_reference_file = data_root+'Uniprot_Reference/'+name_root+'_uniprot_reference.csv' # The uniprot reference\n",
    "fasta_long_header_file = data_root + 'Uniprot_Reference/' + name_root+'_long_header.fasta'\n",
    "fasta_file = data_root + 'Uniprot_Reference/' + name_root+'.fasta'\n",
    "#note: in addition to these 3 files, this also makes a mapping file for movng between fasta_long_header_file and fasta_file\n",
    "\n",
    "#PDB Files we'll make in this process\n",
    "PDB_file = data_root + 'PDB_Reference/' + name_root + '_PDB.csv'\n",
    "PDB_file_annotated = data_root+ 'PDB_Reference/' + name_root + '_PDB_annotated.csv'\n",
    "PDB_file_filtered = data_root + 'PDB_Reference/' + name_root + '_PDB_reference.csv' #The final PDB structure file, containing only filtered proteins\n",
    "\n",
    "# PTMs feature directory location\n",
    "feature_dir = 'Data/Uniprot_Reference/Features_relative_to_reference/PTM_features/'\n",
    "\n",
    "N_OFFSET = 0\n",
    "C_OFFSET = -1\n"
   ]
  },
  {
   "attachments": {},
   "cell_type": "markdown",
   "metadata": {},
   "source": [
    "### STEP 1: Get all Uniprot IDs that match a family of interest\n"
   ]
  },
  {
   "cell_type": "code",
   "execution_count": 2,
   "metadata": {},
   "outputs": [
    {
     "name": "stdout",
     "output_type": "stream",
     "text": [
      "Fetched 109 Uniprot IDs linked to IPR000980, where count expected to be 109\n"
     ]
    }
   ],
   "source": [
    "uniprot_IDs, species_dict = CoDIAC.InterPro.fetch_uniprotids(Interpro_ID, REVIEWED=True, species='Homo sapiens')"
   ]
  },
  {
   "attachments": {},
   "cell_type": "markdown",
   "metadata": {},
   "source": [
    "### STEP 2: Make a human reference file of the family of interest"
   ]
  },
  {
   "cell_type": "code",
   "execution_count": 3,
   "metadata": {},
   "outputs": [
    {
     "name": "stdout",
     "output_type": "stream",
     "text": [
      "Domain Reference File successfully created!\n",
      "Adding Interpro Domains\n",
      "Fetching domains..\n",
      "Appending domains to file..\n",
      "Interpro metadata succesfully incorporated\n"
     ]
    }
   ],
   "source": [
    "\n",
    "uniprot_df = CoDIAC.UniProt.makeRefFile(uniprot_IDs, uniprot_reference_file)"
   ]
  },
  {
   "cell_type": "markdown",
   "metadata": {},
   "source": [
    "Manually checked Uniprot reference file for errors/issues. Found Uniprot and Interpro generally agreeing, with Interpro adding additional domains of interest. However, the atypical SH2 domains (JAK family) differ quite a bit in their boundaries. After testing alignment effects, we selected the SMART domain boundaries, changing the InterPro boundaries by hand (since this is the column used) (SMART landed somehwere between the Uniprot defined boundaries and the longer boundaries of the InterPro database in length)\n",
    "\n",
    "Changes:\n",
    "1. JAK1 SH2:IPR000980:437:546 -> SH2:IPR000980:437:544; JAK2 SH2:IPR000980:397:501 -> 397:487; JAK3 SH2:IPR000980:373:477 -> 373:463; TYK2 SH2:IPR000980:450:553 -> 452:539 \n",
    "2. Manually removed the alpha-helix region termed \"PI3K_P85_iSH2:IPR032498\" in the Interpro file for P27986,PIK3R1; Q92569,PIK3R3; O00459,PIK3R2\n",
    "3. Manually removed C lobe SH2 domain in Supt6h, which overlaps with the parent SH2 domain:\n",
    "Spt6_SH2_C:IPR035018:1424:1515 (removed)\n"
   ]
  },
  {
   "attachments": {},
   "cell_type": "markdown",
   "metadata": {},
   "source": [
    "### STEP 3: Get information about all PDB IDs that exist for the reference proteins of interest"
   ]
  },
  {
   "cell_type": "code",
   "execution_count": 2,
   "metadata": {},
   "outputs": [
    {
     "name": "stdout",
     "output_type": "stream",
     "text": [
      "Structure Reference File successfully created!\n",
      "All PDBs successfully fetched\n"
     ]
    }
   ],
   "source": [
    "\n",
    "CoDIAC.PDB.generateStructureRefFile_fromUniprotFile(uniprot_reference_file, PDB_file)"
   ]
  },
  {
   "attachments": {},
   "cell_type": "markdown",
   "metadata": {},
   "source": [
    "### STEP 4: Annotate the structure file with reference, for domain annotation"
   ]
  },
  {
   "cell_type": "code",
   "execution_count": 2,
   "metadata": {},
   "outputs": [],
   "source": [
    "struct_df_out = CoDIAC.IntegrateStructure_Reference.add_reference_info_to_struct_file(PDB_file, uniprot_reference_file, PDB_file_annotated, INTERPRO=True, verbose=False)"
   ]
  },
  {
   "cell_type": "markdown",
   "metadata": {},
   "source": [
    "### STEP 5: Reduce the structure file to just those that contain the domain of interest"
   ]
  },
  {
   "cell_type": "code",
   "execution_count": 3,
   "metadata": {},
   "outputs": [
    {
     "name": "stdout",
     "output_type": "stream",
     "text": [
      "Made Data/PDB_Reference/SH2_IPR000980_PDB_reference.csv file: 456 structures retained of 1409 total\n"
     ]
    }
   ],
   "source": [
    "# Now with an appended PDB File, create an output that contains only the lines that have SH2 domains\n",
    "CoDIAC.IntegrateStructure_Reference.filter_structure_file(PDB_file_annotated, Interpro_ID, PDB_file_filtered)"
   ]
  },
  {
   "attachments": {},
   "cell_type": "markdown",
   "metadata": {},
   "source": [
    "### STEP 6: Create the FASTA Reference file for SH2 domains"
   ]
  },
  {
   "cell_type": "code",
   "execution_count": 19,
   "metadata": {},
   "outputs": [
    {
     "name": "stdout",
     "output_type": "stream",
     "text": [
      "n offset is 0 and c offset is -1\n",
      "Created files: Data/Uniprot_Reference/SH2_IPR000980.fasta and Data/Uniprot_Reference/SH2_IPR000980_mapping.csv\n"
     ]
    }
   ],
   "source": [
    "# Given the SH2 domain file, create the fasta reference file (using INTERPRO as default)\n",
    "\n",
    "CoDIAC.UniProt.print_domain_fasta_file(uniprot_reference_file, Interpro_ID, fasta_long_header_file, N_OFFSET, C_OFFSET, APPEND=False)\n",
    "\n",
    "\n",
    "# Shortening the fasta headers, still unique for each domain/protein pair\n",
    "# dropping the redundant information about the domains printed \n",
    "\n",
    "key_array_order= ['uniprot', 'gene', 'domain_num', 'start', 'end']\n",
    "#translation creates a mapping file \n",
    "output_fasta, mapping_file = CoDIAC.UniProt.translate_fasta_to_new_headers(fasta_long_header_file, fasta_file, key_array_order)\n"
   ]
  },
  {
   "cell_type": "markdown",
   "metadata": {},
   "source": [
    "Perform Promals3D alignment at http://prodata.swmed.edu/promals3d/promals3d.php\n",
    "Using the fasta_file with shorter headers \n",
    "Once complete, replace the _ with | in the promals3d results\n",
    "Committed that to the alignment file location (see next cell where alignment file can be instatiated for later steps)\n"
   ]
  },
  {
   "cell_type": "code",
   "execution_count": 6,
   "metadata": {},
   "outputs": [],
   "source": [
    "# alignment file location, once created on Promals3D\n",
    "alignment_file = 'Data/Uniprot_Reference/alignment/SH2_IPR000980_promals3d.fasta'\n"
   ]
  },
  {
   "cell_type": "markdown",
   "metadata": {},
   "source": [
    "## STEP 7 Create the PTM feature files"
   ]
  },
  {
   "cell_type": "markdown",
   "metadata": {},
   "source": [
    "#### STEP 7a create the ProteomeScout based Features files"
   ]
  },
  {
   "cell_type": "code",
   "execution_count": 20,
   "metadata": {},
   "outputs": [
    {
     "name": "stdout",
     "output_type": "stream",
     "text": [
      "n offset is 0 and c offset is -1\n",
      "n offset is 0 and c offset is -1\n",
      "Error: PTM record not found by Q7Z4S9\n",
      "Error: PTM record not found by Q7Z4S9\n",
      "Error: PTM record not found by Q8TC17\n",
      "Error: PTM record not found by Q8TC17\n",
      "Wrote these feature files:\n",
      "['Data/Uniprot_Reference/Features_relative_to_reference/PTM_features//ProteomeScout/IPR000980_Phosphotyrosine.feature', 'Data/Uniprot_Reference/Features_relative_to_reference/PTM_features//ProteomeScout/IPR000980_N6-acetyllysine.feature', 'Data/Uniprot_Reference/Features_relative_to_reference/PTM_features//ProteomeScout/IPR000980_Phosphothreonine.feature', 'Data/Uniprot_Reference/Features_relative_to_reference/PTM_features//ProteomeScout/IPR000980_Phosphoserine.feature', 'Data/Uniprot_Reference/Features_relative_to_reference/PTM_features//ProteomeScout/IPR000980_Ubiquitination.feature']\n",
      "These belong to the following fasta file:\n",
      "Data/Uniprot_Reference/SH2_IPR000980.fasta\n",
      "{'Phosphotyrosine': 182, 'N6-acetyllysine': 32, 'Phosphothreonine': 61, 'Phosphoserine': 149, 'Ubiquitination': 59, 'Sumoylation': 3, 'Methylation': 1, 'N6,N6-dimethyllysine': 2}\n"
     ]
    }
   ],
   "source": [
    "feature_dir_prot = feature_dir+'/ProteomeScout/'\n",
    "ptm_feature_file_list, ptm_count_dict, ptm_feature_dict, mapping_dict = CoDIAC.PTM.write_PTM_features(Interpro_ID, uniprot_reference_file, feature_dir_prot, mapping_file, N_OFFSET, C_OFFSET, gap_threshold=0.7, num_PTM_threshold = 5)\n",
    "print(\"Wrote these feature files:\")\n",
    "print(ptm_feature_file_list)\n",
    "print(\"These belong to the following fasta file:\")\n",
    "print(output_fasta) #comes from block above - the short header format of the fasta header\n",
    "print(ptm_count_dict)"
   ]
  },
  {
   "cell_type": "markdown",
   "metadata": {},
   "source": [
    "#### STEP 7b create the PhosphoSite based Features files"
   ]
  },
  {
   "cell_type": "code",
   "execution_count": 21,
   "metadata": {},
   "outputs": [
    {
     "name": "stdout",
     "output_type": "stream",
     "text": [
      "n offset is 0 and c offset is -1\n",
      "n offset is 0 and c offset is -1\n",
      "Found no mods for Q7Z4S9\n",
      "Found no mods for Q9HBL0\n",
      "Using an isoform for PTMs Q9HBL0-1, found mods\n",
      "S2-Phosphoserine;S4-Phosphoserine;T68-Phosphothreonine;T84-Phosphothreonine;S92-Phosphoserine;S170-Phosphoserine;Y210-Phosphotyrosine;Y217-Phosphotyrosine;S257-Phosphoserine;Y327-Phosphotyrosine;T329-Phosphothreonine;S330-Phosphoserine;S338-Phosphoserine;Y339-Phosphotyrosine;S343-Phosphoserine;T357-Phosphothreonine;S364-Phosphoserine;Y366-Phosphotyrosine;S374-Phosphoserine;S378-Phosphoserine;T379-Phosphothreonine;S390-Phosphoserine;T399-Phosphothreonine;S401-Phosphoserine;S403-Phosphoserine;S404-Phosphoserine;S406-Phosphoserine;S433-Phosphoserine;S445-Phosphoserine;Y458-Phosphotyrosine;T460-Phosphothreonine;S465-Phosphoserine;S471-Phosphoserine;S475-Phosphoserine;T498-Phosphothreonine;S512-Phosphoserine;T518-Phosphothreonine;S538-Phosphoserine;S547-Phosphoserine;Y561-Phosphotyrosine;T575-Phosphothreonine;Y582-Phosphotyrosine;S583-Phosphoserine;Y591-Phosphotyrosine;T605-Phosphothreonine;T606-Phosphothreonine;S607-Phosphoserine;Y609-Phosphotyrosine;S614-Phosphoserine;S619-Phosphoserine;S621-Phosphoserine;S623-Phosphoserine;S638-Phosphoserine;S649-Phosphoserine;S674-Phosphoserine;S681-Phosphoserine;T688-Phosphothreonine;S692-Phosphoserine;S701-Phosphoserine;S708-Phosphoserine;T711-Phosphothreonine;S731-Phosphoserine;S733-Phosphoserine;S742-Phosphoserine;S746-Phosphoserine;S756-Phosphoserine;S762-Phosphoserine;S764-Phosphoserine;Y766-Phosphotyrosine;S769-Phosphoserine;S772-Phosphoserine;T775-Phosphothreonine;S783-Phosphoserine;S786-Phosphoserine;Y793-Phosphotyrosine;S794-Phosphoserine;Y796-Phosphotyrosine;Y798-Phosphotyrosine;S813-Phosphoserine;S838-Phosphoserine;T843-Phosphothreonine;S849-Phosphoserine;T854-Phosphothreonine;S855-Phosphoserine;S858-Phosphoserine;T860-Phosphothreonine;S899-Phosphoserine;Y903-Phosphotyrosine;S907-Phosphoserine;T911-Phosphothreonine;S912-Phosphoserine;S915-Phosphoserine;S920-Phosphoserine;S926-Phosphoserine;S948-Phosphoserine;T959-Phosphothreonine;S960-Phosphoserine;S962-Phosphoserine;S963-Phosphoserine;S967-Phosphoserine;S971-Phosphoserine;S981-Phosphoserine;S1019-Phosphoserine;S1024-Phosphoserine;Y1025-Phosphotyrosine;S1046-Phosphoserine;S1048-Phosphoserine;Y1055-Phosphotyrosine;T1105-Phosphothreonine;T1107-Phosphothreonine;S1113-Phosphoserine;S1117-Phosphoserine;S1119-Phosphoserine;S1124-Phosphoserine;S1126-Phosphoserine;Y1131-Phosphotyrosine;S1135-Phosphoserine;T1139-Phosphothreonine;S1142-Phosphoserine;S1143-Phosphoserine;Y1144-Phosphotyrosine;S1145-Phosphoserine;S1146-Phosphoserine;Y1149-Phosphotyrosine;S1150-Phosphoserine;S1155-Phosphoserine;S1156-Phosphoserine;S1157-Phosphoserine;S1160-Phosphoserine;S1167-Phosphoserine;T1173-Phosphothreonine;S1177-Phosphoserine;T1184-Phosphothreonine;T1189-Phosphothreonine;S1192-Phosphoserine;S1209-Phosphoserine;S1232-Phosphoserine;S1243-Phosphoserine;Y1254-Phosphotyrosine;S1257-Phosphoserine;T1265-Phosphothreonine;T1266-Phosphothreonine;S1269-Phosphoserine;S1271-Phosphoserine;S1294-Phosphoserine;S1297-Phosphoserine;S1307-Phosphoserine;S1309-Phosphoserine;S1314-Phosphoserine;Y1323-Phosphotyrosine;Y1326-Phosphotyrosine;S1327-Phosphoserine;T1328-Phosphothreonine;T1335-Phosphothreonine;S1337-Phosphoserine;S1340-Phosphoserine;S1341-Phosphoserine;S1343-Phosphoserine;Y1345-Phosphotyrosine;S1349-Phosphoserine;S1352-Phosphoserine;Y1359-Phosphotyrosine;S1371-Phosphoserine;S1381-Phosphoserine;T1383-Phosphothreonine;S1393-Phosphoserine;S1400-Phosphoserine;Y1404-Phosphotyrosine;T1406-Phosphothreonine;S1413-Phosphoserine;S1417-Phosphoserine;S1420-Phosphoserine;S1421-Phosphoserine;S1423-Phosphoserine;S1426-Phosphoserine;Y1440-Phosphotyrosine;S1441-Phosphoserine;S1446-Phosphoserine;Y1462-Phosphotyrosine;S1490-Phosphoserine;S1492-Phosphoserine;T1509-Phosphothreonine;S1579-Phosphoserine;S1583-Phosphoserine;S1588-Phosphoserine;T1589-Phosphothreonine;T1665-Phosphothreonine;T1667-Phosphothreonine;K69-Ubiquitination;K249-Ubiquitination;K290-Ubiquitination;K437-Ubiquitination;K1454-Ubiquitination;K1580-Ubiquitination;R781-Methylation\n",
      "[(1019, 'S', 'Phosphoserine', 'different amino acid')]\n",
      "Wrote these feature files:\n",
      "['Data/Uniprot_Reference/Features_relative_to_reference/PTM_features/PHOSPHOSITE_PLUS/IPR000980_Phosphotyrosine.feature', 'Data/Uniprot_Reference/Features_relative_to_reference/PTM_features/PHOSPHOSITE_PLUS/IPR000980_Ubiquitination.feature', 'Data/Uniprot_Reference/Features_relative_to_reference/PTM_features/PHOSPHOSITE_PLUS/IPR000980_Acetylation.feature', 'Data/Uniprot_Reference/Features_relative_to_reference/PTM_features/PHOSPHOSITE_PLUS/IPR000980_Phosphothreonine.feature', 'Data/Uniprot_Reference/Features_relative_to_reference/PTM_features/PHOSPHOSITE_PLUS/IPR000980_Phosphoserine.feature']\n",
      "These belong to the following fasta file:\n",
      "Data/Uniprot_Reference/SH2_IPR000980.fasta\n",
      "{'Phosphotyrosine': 178, 'Ubiquitination': 165, 'Acetylation': 34, 'Phosphothreonine': 63, 'Phosphoserine': 148, 'Sumoylation': 4, 'Methylation': 3, 'Dimethylation': 2}\n"
     ]
    }
   ],
   "source": [
    "feature_dir_psite = feature_dir + 'PHOSPHOSITE_PLUS/'\n",
    "ptm_feature_file_list, ptm_count_dict, ptm_feature_dict, mapping_dict = CoDIAC.PTM.write_PTM_features(Interpro_ID, uniprot_reference_file, feature_dir_psite, mapping_file, N_OFFSET, C_OFFSET, gap_threshold=0.7, num_PTM_threshold = 5, PHOSPHOSITE_PLUS=True)\n",
    "print(\"Wrote these feature files:\")\n",
    "print(ptm_feature_file_list)\n",
    "print(\"These belong to the following fasta file:\")\n",
    "print(output_fasta) #comes from block above - the short header format of the fasta header\n",
    "print(ptm_count_dict)"
   ]
  },
  {
   "cell_type": "markdown",
   "metadata": {},
   "source": [
    "#### Modified PTM feature files to remove modifications for TNS1, which has issues that have yet to be resolved.\n",
    "This involved Phosphserine, Phosphothreonine, and Phosphotyrosine for ProteomeScout.\n",
    "This involved Phosphoserine, Phosphothreonine, Phosphotyrosine, and Ubiquitination for PhosphositePlus\n"
   ]
  },
  {
   "cell_type": "code",
   "execution_count": 32,
   "metadata": {},
   "outputs": [],
   "source": [
    "ptm_feature_file_list_psite = ['Data/Uniprot_Reference/Features_relative_to_reference/PTM_features/PHOSPHOSITE_PLUS/IPR000980_Phosphotyrosine.feature', 'Data/Uniprot_Reference/Features_relative_to_reference/PTM_features/PHOSPHOSITE_PLUS/IPR000980_Ubiquitination.feature', 'Data/Uniprot_Reference/Features_relative_to_reference/PTM_features/PHOSPHOSITE_PLUS/IPR000980_Acetylation.feature', 'Data/Uniprot_Reference/Features_relative_to_reference/PTM_features/PHOSPHOSITE_PLUS/IPR000980_Phosphothreonine.feature', 'Data/Uniprot_Reference/Features_relative_to_reference/PTM_features/PHOSPHOSITE_PLUS/IPR000980_Phosphoserine.feature']\n",
    "ptm_feature_file_list_pscout = ['Data/Uniprot_Reference/Features_relative_to_reference/PTM_features//ProteomeScout/IPR000980_Phosphotyrosine.feature', 'Data/Uniprot_Reference/Features_relative_to_reference/PTM_features//ProteomeScout/IPR000980_N6-acetyllysine.feature', 'Data/Uniprot_Reference/Features_relative_to_reference/PTM_features//ProteomeScout/IPR000980_Phosphothreonine.feature', 'Data/Uniprot_Reference/Features_relative_to_reference/PTM_features//ProteomeScout/IPR000980_Phosphoserine.feature', 'Data/Uniprot_Reference/Features_relative_to_reference/PTM_features//ProteomeScout/IPR000980_Ubiquitination.feature']\n",
    "ptm_feature_file_list_all = ptm_feature_file_list_psite + ptm_feature_file_list_pscout"
   ]
  },
  {
   "cell_type": "code",
   "execution_count": 22,
   "metadata": {},
   "outputs": [
    {
     "name": "stdout",
     "output_type": "stream",
     "text": [
      "Wrote annotation track at Data/Uniprot_Reference/Features_relative_to_reference/PTM_features/PHOSPHOSITE_PLUS/IPR000980_Phosphotyrosine.ann\n",
      "Wrote annotation track at Data/Uniprot_Reference/Features_relative_to_reference/PTM_features/PHOSPHOSITE_PLUS/IPR000980_Ubiquitination.ann\n",
      "Wrote annotation track at Data/Uniprot_Reference/Features_relative_to_reference/PTM_features/PHOSPHOSITE_PLUS/IPR000980_Acetylation.ann\n",
      "Wrote annotation track at Data/Uniprot_Reference/Features_relative_to_reference/PTM_features/PHOSPHOSITE_PLUS/IPR000980_Phosphothreonine.ann\n",
      "Wrote annotation track at Data/Uniprot_Reference/Features_relative_to_reference/PTM_features/PHOSPHOSITE_PLUS/IPR000980_Phosphoserine.ann\n",
      "Wrote annotation track at Data/Uniprot_Reference/Features_relative_to_reference/PTM_features//ProteomeScout/IPR000980_Phosphotyrosine.ann\n",
      "Wrote annotation track at Data/Uniprot_Reference/Features_relative_to_reference/PTM_features//ProteomeScout/IPR000980_N6-acetyllysine.ann\n",
      "Wrote annotation track at Data/Uniprot_Reference/Features_relative_to_reference/PTM_features//ProteomeScout/IPR000980_Phosphothreonine.ann\n",
      "Wrote annotation track at Data/Uniprot_Reference/Features_relative_to_reference/PTM_features//ProteomeScout/IPR000980_Phosphoserine.ann\n",
      "Wrote annotation track at Data/Uniprot_Reference/Features_relative_to_reference/PTM_features//ProteomeScout/IPR000980_Ubiquitination.ann\n"
     ]
    }
   ],
   "source": [
    "# Create the annotation tracks for PTM features and \n",
    "for feature_file in ptm_feature_file_list_all:\n",
    "    file_arr = feature_file.split('.')\n",
    "    annotation_file = file_arr[0] + '.ann'\n",
    "    CoDIAC.jalviewFunctions.print_ann_file(feature_file, alignment_file, annotation_file)\n",
    "\n",
    "\n"
   ]
  },
  {
   "cell_type": "code",
   "execution_count": 34,
   "metadata": {},
   "outputs": [
    {
     "name": "stdout",
     "output_type": "stream",
     "text": [
      "Created Data/Uniprot_Reference/Features_relative_to_reference/PTM_features/PTM_all_features.feature\n",
      "Wrote annotation track at Data/Uniprot_Reference/Features_relative_to_reference/PTM_features/PTM_all_features_promals3d.ann\n"
     ]
    }
   ],
   "source": [
    "#create an integration of all PTMs into one file.\n",
    "feature_file = feature_dir+'PTM_all_features.feature'\n",
    "feature_combined, feature_color_dict = CoDIAC.jalviewFunctions.combine_feature_files(feature_file, ptm_feature_file_list)\n",
    " \n",
    "annotation_file = feature_dir+'PTM_all_features_promals3d.ann'\n",
    "jalviewFunctions.print_ann_file(feature_file, alignment_file, annotation_file)"
   ]
  },
  {
   "cell_type": "markdown",
   "metadata": {},
   "source": [
    "### Step 8 combine feature files from ProteomeScout and PhosphoSitePlus and generate annotation tracks."
   ]
  },
  {
   "cell_type": "markdown",
   "metadata": {},
   "source": [
    "#paired list\n",
    "\n"
   ]
  },
  {
   "cell_type": "code",
   "execution_count": 24,
   "metadata": {},
   "outputs": [
    {
     "name": "stdout",
     "output_type": "stream",
     "text": [
      "Created Data/Features/PTMS_all/SH2_IPR000980_N6-acetyllysine.feature\n",
      "Created Data/Features/PTMS_all/SH2_IPR000980_Phosphoserine.feature\n",
      "Created Data/Features/PTMS_all/SH2_IPR000980_Phosphothreonine.feature\n",
      "Created Data/Features/PTMS_all/SH2_IPR000980_Phosphotyrosine.feature\n",
      "Created Data/Features/PTMS_all/SH2_IPR000980_Ubiquitination.feature\n"
     ]
    }
   ],
   "source": [
    "pairs = {}\n",
    "\n",
    "proteomescout_base = 'Data/Uniprot_Reference/Features_relative_to_reference/PTM_features/ProteomeScout/IPR000980_'\n",
    "PSP_base = 'Data/Uniprot_Reference/Features_relative_to_reference/PTM_features/PHOSPHOSITE_PLUS/IPR000980_'\n",
    "pairs['N6-acetyllysine'] = [proteomescout_base+'N6-acetyllysine.feature', PSP_base+'Acetylation.feature']\n",
    "pairs['Phosphoserine'] = [proteomescout_base+'Phosphoserine.feature', PSP_base+'Phosphoserine.feature']\n",
    "pairs['Phosphothreonine'] = [proteomescout_base+'Phosphothreonine.feature', PSP_base+'Phosphothreonine.feature']\n",
    "pairs['Phosphotyrosine'] = [proteomescout_base+'Phosphotyrosine.feature', PSP_base+'Phosphotyrosine.feature']\n",
    "pairs['Ubiquitination'] = [proteomescout_base+'Ubiquitination.feature', PSP_base+'Ubiquitination.feature']\n",
    "\n",
    "output_dir = 'Data/Features/PTMS_all/'\n",
    "new_feature_files = {}\n",
    "\n",
    "for mod in pairs.keys():\n",
    "    feature_file = output_dir+'SH2_IPR000980_'+mod+'.feature'\n",
    "    feature_combined, feature_color_dict = CoDIAC.jalviewFunctions.combine_feature_files(feature_file, pairs[mod])\n",
    "    new_feature_files[mod] = feature_file\n"
   ]
  },
  {
   "cell_type": "code",
   "execution_count": 25,
   "metadata": {},
   "outputs": [
    {
     "name": "stdout",
     "output_type": "stream",
     "text": [
      "Created Data/Features/PTMS_all/SH2_IPR000980_Phosphoserine_Phosphothreonine.feature\n"
     ]
    }
   ],
   "source": [
    "# also combine the phosphoserine and phosphothreonine sets\n",
    "feature_file = output_dir+'SH2_IPR000980_Phosphoserine_Phosphothreonine.feature'\n",
    "feature_combined, feature_color_dict = CoDIAC.jalviewFunctions.combine_feature_files(feature_file, ['Data/Features/PTMS_all/SH2_IPR000980_Phosphothreonine.feature', 'Data/Features/PTMS_all/SH2_IPR000980_Phosphoserine.feature'])"
   ]
  },
  {
   "cell_type": "code",
   "execution_count": 29,
   "metadata": {},
   "outputs": [
    {
     "name": "stdout",
     "output_type": "stream",
     "text": [
      "Wrote annotation track at Data/Features/PTMS_all/SH2_IPR000980_Phosphoserine_Phosphothreonine.ann\n"
     ]
    }
   ],
   "source": [
    "# Changed the Phosphoserine and Phosphothreonine feature names to Phosphorylation(ST)\n",
    "feature_file = output_dir+'SH2_IPR000980_Phosphoserine_Phosphothreonine.feature'\n",
    "jalviewFunctions.print_ann_file(feature_file, alignment_file, output_dir+'SH2_IPR000980_Phosphoserine_Phosphothreonine.ann')"
   ]
  },
  {
   "cell_type": "code",
   "execution_count": 27,
   "metadata": {},
   "outputs": [
    {
     "name": "stdout",
     "output_type": "stream",
     "text": [
      "Wrote annotation track at Data/Features/PTMS_all/SH2_IPR000980_N6-acetyllysine.ann\n",
      "Wrote annotation track at Data/Features/PTMS_all/SH2_IPR000980_Phosphoserine.ann\n",
      "Wrote annotation track at Data/Features/PTMS_all/SH2_IPR000980_Phosphothreonine.ann\n",
      "Wrote annotation track at Data/Features/PTMS_all/SH2_IPR000980_Phosphotyrosine.ann\n",
      "Wrote annotation track at Data/Features/PTMS_all/SH2_IPR000980_Ubiquitination.ann\n"
     ]
    }
   ],
   "source": [
    "#replaced the combined/merged features that overlapped in both resources and then run the annotation tracks\n",
    "for  mod in new_feature_files.keys():\n",
    "    feature_file = new_feature_files[mod]\n",
    "    annotation_file = feature_file.replace('.feature', '.ann')\n",
    "    jalviewFunctions.print_ann_file(feature_file, alignment_file, annotation_file)"
   ]
  },
  {
   "cell_type": "code",
   "execution_count": 39,
   "metadata": {},
   "outputs": [
    {
     "name": "stdout",
     "output_type": "stream",
     "text": [
      "Wrote annotation track at Data/Features/PTMs_all/PTMs_final/SH2_IPR000980_Phosphoserine_Phosphothreonine.ann\n",
      "Wrote annotation track at Data/Features/PTMs_all/PTMs_final/SH2_IPR000980_N6-acetyllysine.ann\n",
      "Wrote annotation track at Data/Features/PTMs_all/PTMs_final/SH2_IPR000980_Phosphotyrosine.ann\n",
      "Wrote annotation track at Data/Features/PTMs_all/PTMs_final/SH2_IPR000980_Phosphoserine.ann\n",
      "Wrote annotation track at Data/Features/PTMs_all/PTMs_final/SH2_IPR000980_Phosphothreonine.ann\n",
      "Wrote annotation track at Data/Features/PTMs_all/PTMs_final/SH2_IPR000980_Ubiquitination.ann\n",
      "Created Data/Features/PTMs_all/PTMs_final/SH2_IPR000980_PTMs_all.feature\n",
      "Wrote annotation track at Data/Features/PTMs_all/PTMs_final/SH2_IPR000980_PTMs_all.ann\n"
     ]
    }
   ],
   "source": [
    "#Combine all PTMs into one final file \n",
    "# updated the files for all PTMs to use just one modification name. These are in PTMs_final\n",
    "ptm_feature_all_dir = 'Data/Features/PTMs_all/PTMs_final/'\n",
    "\n",
    "#run the combined jalview annotation\n",
    "ST_file = ptm_feature_all_dir+'SH2_IPR000980_Phosphoserine_Phosphothreonine.feature'\n",
    "jalviewFunctions.print_ann_file(ST_file, alignment_file, ST_file.replace('.feature', '.ann'))\n",
    "\n",
    "feature_file_list = []\n",
    "for mod in ['N6-acetyllysine', 'Phosphotyrosine', 'Phosphoserine', 'Phosphothreonine', 'Ubiquitination']:\n",
    "    feature_file = ptm_feature_all_dir+'SH2_IPR000980_'+mod+'.feature'\n",
    "    jalviewFunctions.print_ann_file(feature_file, alignment_file, feature_file.replace('.feature', '.ann'))\n",
    "    feature_file_list.append(feature_file)\n",
    "output_final_PTMs_all = ptm_feature_all_dir+'SH2_IPR000980_PTMs_all.feature'\n",
    "feature_combined, feature_color_dict = CoDIAC.jalviewFunctions.combine_feature_files(output_final_PTMs_all, feature_file_list)\n",
    "jalviewFunctions.print_ann_file(output_final_PTMs_all, alignment_file, output_final_PTMs_all.replace('.feature', '.ann'))"
   ]
  }
 ],
 "metadata": {
  "kernelspec": {
   "display_name": "Python 3 (ipykernel)",
   "language": "python",
   "name": "python3"
  },
  "language_info": {
   "codemirror_mode": {
    "name": "ipython",
    "version": 3
   },
   "file_extension": ".py",
   "mimetype": "text/x-python",
   "name": "python",
   "nbconvert_exporter": "python",
   "pygments_lexer": "ipython3",
   "version": "3.9.16"
  }
 },
 "nbformat": 4,
 "nbformat_minor": 2
}
