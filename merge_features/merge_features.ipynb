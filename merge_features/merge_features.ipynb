{
 "cells": [
  {
   "cell_type": "code",
   "execution_count": 1,
   "id": "9ff22138-c452-4e79-bbcb-4ab167041b31",
   "metadata": {},
   "outputs": [],
   "source": [
    "from CoDIAC import analysis"
   ]
  },
  {
   "cell_type": "markdown",
   "id": "c1fe37b7-3d5e-4eec-8191-cd4d8c40d9ef",
   "metadata": {},
   "source": [
    "## To merge features/contacts from across several PDB structures onto the reference sequence"
   ]
  },
  {
   "cell_type": "code",
   "execution_count": 2,
   "id": "a0ce7f61-81c2-4c95-b9b4-0f72fc05da38",
   "metadata": {},
   "outputs": [
    {
     "name": "stdout",
     "output_type": "stream",
     "text": [
      "Created feature file with merged features!\n"
     ]
    }
   ],
   "source": [
    "fasta_unaligned = 'SH2_socs2.fasta'\n",
    "fasta_aligned = 'SH2_socs2_mafft.fasta' #generate through sequence alignment software like mafft \n",
    "\n",
    "feaFile_unaligned = 'SH2_socs2.fea'\n",
    "feaFile_aligned = 'SH2_socs2_aln.fea' #is not useful to visualize in jalview. only for feature position updates we make this file\n",
    "\n",
    "feaFile_merge_aligned = 'SH2_socs2_aln_merge.fea' #not useful again for jalview. still needs to be updated to match the right positions\n",
    "feaFile_merge_unaligned = 'SH2_socs2_merge.fea' #final file with merged features. We can load this with ref sequence alignments  \n",
    "\n",
    "analysis.make_mergedFeatureFiles(fasta_unaligned,fasta_aligned,feaFile_unaligned,feaFile_aligned,\n",
    "                            feaFile_merge_aligned,feaFile_merge_unaligned,interface='Intraprotein')\n"
   ]
  },
  {
   "cell_type": "markdown",
   "id": "97253a9d-158d-4b2f-8485-4e1f3b28ed7a",
   "metadata": {},
   "source": [
    "### To generate a feature file with features positions from aligned sequence\n",
    "#### We can input an unaligned set of features and generate feature file for their corresponding positions on aligned sequence and vice versa"
   ]
  },
  {
   "cell_type": "code",
   "execution_count": 4,
   "id": "0928d4ce-ad01-4ab7-ac52-2ef5bc8d02f8",
   "metadata": {},
   "outputs": [
    {
     "data": {
      "text/plain": [
       "{1: ['O14508|SOCS2|SH2|1|IPR000980|46|156', '1', '19'],\n",
       " 2: ['O14508|SOCS2|SH2|1|IPR000980|46|156', '2', '20'],\n",
       " 3: ['O14508|SOCS2|SH2|1|IPR000980|46|156', '3', '21'],\n",
       " 4: ['O14508|SOCS2|SH2|1|IPR000980|46|156', '5', '23'],\n",
       " 5: ['O14508|SOCS2|SH2|1|IPR000980|46|156', '16', '43'],\n",
       " 6: ['O14508|SOCS2|SH2|1|IPR000980|46|156', '17', '44'],\n",
       " 7: ['O14508|SOCS2|SH2|1|IPR000980|46|156', '22', '56'],\n",
       " 8: ['O14508|SOCS2|SH2|1|IPR000980|46|156', '23', '57'],\n",
       " 9: ['O14508|SOCS2|SH2|1|IPR000980|46|156', '24', '58'],\n",
       " 10: ['O14508|SOCS2|SH2|1|IPR000980|46|156', '25', '59'],\n",
       " 11: ['O14508|SOCS2|SH2|1|IPR000980|46|156', '26', '60'],\n",
       " 12: ['O14508|SOCS2|SH2|1|IPR000980|46|156', '39', '75'],\n",
       " 13: ['O14508|SOCS2|SH2|1|IPR000980|46|156', '41', '77'],\n",
       " 14: ['O14508|SOCS2|SH2|1|IPR000980|46|156', '78', '142'],\n",
       " 15: ['O14508|SOCS2|SH2|1|IPR000980|46|156', '79', '143'],\n",
       " 16: ['O14508|SOCS2|SH2|1|IPR000980|46|156', '81', '145'],\n",
       " 17: ['O14508|SOCS2|SH2|1|IPR000980|46|156', '82', '146'],\n",
       " 18: ['O14508|SOCS2|SH2|1|IPR000980|46|156', '85', '149'],\n",
       " 19: ['O14508|SOCS2|SH2|1|IPR000980|46|156', '104', '182'],\n",
       " 20: ['O14508|SOCS2|SH2|1|IPR000980|46|156', '105', '183'],\n",
       " 21: ['O14508|SOCS2|SH2|1|IPR000980|46|156', '106', '184'],\n",
       " 22: ['O14508|SOCS2|SH2|1|IPR000980|46|156', '107', '185'],\n",
       " 23: ['O14508|SOCS2|SH2|1|IPR000980|46|156', '108', '186'],\n",
       " 24: ['O14508|SOCS2|SH2|1|IPR000980|46|156', '109', '187'],\n",
       " 25: ['O14508|SOCS2|SH2|1|IPR000980|46|156', '110', '188'],\n",
       " 26: ['O14508|SOCS2|SH2|1|IPR000980|46|156', '88', '152'],\n",
       " 27: ['O14508|SOCS2|SH2|1|IPR000980|46|156', '76', '140'],\n",
       " 28: ['O14508|SOCS2|SH2|1|IPR000980|46|156', '95', '166']}"
      ]
     },
     "execution_count": 4,
     "metadata": {},
     "output_type": "execute_result"
    }
   ],
   "source": [
    "fasta_file = 'Socs2_unaln.fasta'\n",
    "fasta_aln_file = 'Socs2_aln.fasta'\n",
    "input_featurefile = 'SH2_socs2_merge.fea' #generated in the above step\n",
    "output_featurefile = 'SH2_Socs2_merge_aln.fea'\n",
    "\n",
    "analysis.makeFeatureFile_updateSeqPos(fasta_file, fasta_aln_file, input_featurefile, output_featurefile)"
   ]
  },
  {
   "cell_type": "code",
   "execution_count": null,
   "id": "c69f6aaf-8b13-406a-9009-f62b58d34d61",
   "metadata": {},
   "outputs": [],
   "source": []
  },
  {
   "cell_type": "code",
   "execution_count": null,
   "id": "0489972c-1f83-4899-9608-08ac8a62af85",
   "metadata": {},
   "outputs": [],
   "source": []
  },
  {
   "cell_type": "code",
   "execution_count": null,
   "id": "375ca636-7b7a-49e4-90d0-a4680e3c5770",
   "metadata": {},
   "outputs": [],
   "source": []
  }
 ],
 "metadata": {
  "kernelspec": {
   "display_name": "Python 3 (ipykernel)",
   "language": "python",
   "name": "python3"
  },
  "language_info": {
   "codemirror_mode": {
    "name": "ipython",
    "version": 3
   },
   "file_extension": ".py",
   "mimetype": "text/x-python",
   "name": "python",
   "nbconvert_exporter": "python",
   "pygments_lexer": "ipython3",
   "version": "3.9.18"
  }
 },
 "nbformat": 4,
 "nbformat_minor": 5
}
